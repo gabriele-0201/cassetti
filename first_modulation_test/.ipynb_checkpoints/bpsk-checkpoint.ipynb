{
 "cells": [
  {
   "cell_type": "code",
   "execution_count": null,
   "id": "59168d96-7519-4e83-92c5-e8cc544af759",
   "metadata": {},
   "outputs": [],
   "source": [
    "from numpy as no\n",
    "import matplotlib.pyplot as plt\n",
    "import random "
   ]
  },
  {
   "cell_type": "code",
   "execution_count": null,
   "id": "c2ca215b-5947-4341-a1f7-23be2d8bf1ef",
   "metadata": {},
   "outputs": [],
   "source": [
    "def blob_of_bits(length):\n",
    "    return [random.randint(0, 1) for _ in range(length)]"
   ]
  }
 ],
 "metadata": {
  "kernelspec": {
   "display_name": "Python 3 (ipykernel)",
   "language": "python",
   "name": "python3"
  },
  "language_info": {
   "codemirror_mode": {
    "name": "ipython",
    "version": 3
   },
   "file_extension": ".py",
   "mimetype": "text/x-python",
   "name": "python",
   "nbconvert_exporter": "python",
   "pygments_lexer": "ipython3",
   "version": "3.10.8"
  }
 },
 "nbformat": 4,
 "nbformat_minor": 5
}
